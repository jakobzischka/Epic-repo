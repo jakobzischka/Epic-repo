{
 "cells": [
  {
   "cell_type": "markdown",
   "id": "cc1a0af1-243e-408b-b666-01652b9f6981",
   "metadata": {},
   "source": [
    "# Data Science Tools and Ecosystem"
   ]
  },
  {
   "cell_type": "markdown",
   "id": "71323e99-6369-430b-ba0f-53ec8f281e1b",
   "metadata": {},
   "source": [
    "In this notebook, Data Science Tools and Ecosystem are summarized."
   ]
  },
  {
   "cell_type": "markdown",
   "id": "8a68d06b-2f0d-41f5-8e2d-b757e99f600c",
   "metadata": {},
   "source": [
    "**Objectives:**\n",
    "- list popular languages for Data Science\n",
    "- list common libraries for Data Science\n",
    "- list common tools for Data Science\n",
    "- examples for simple arithmetic expressions in Python"
   ]
  },
  {
   "cell_type": "markdown",
   "id": "69446ea4-3a9c-4dd7-be70-c41846ad6a67",
   "metadata": {},
   "source": [
    "Some of the popular languages that Data Scientists use are:\n",
    "1. Python\n",
    "2. R\n",
    "3. SQL\n",
    "4. Scala\n",
    "5. Julia"
   ]
  },
  {
   "cell_type": "markdown",
   "id": "8b412164-486a-49b0-9389-bfcb5a96c403",
   "metadata": {},
   "source": [
    "Some of the commonly used libraries used by Data Scientists include:\n",
    "1. Numpy\n",
    "2. Pandas\n",
    "3. Matplotlib\n",
    "4. Seaborn\n",
    "5. TensorFlow"
   ]
  },
  {
   "cell_type": "markdown",
   "id": "d1eca69d-472b-4c71-8a23-bd723b5fa505",
   "metadata": {},
   "source": [
    "| Data Science Tools |\n",
    "| - |\n",
    "| Jupyter Notebook/ Jupyter Lab |\n",
    "| RStudio |\n",
    "| PyCharm |"
   ]
  },
  {
   "cell_type": "markdown",
   "id": "debce568-9c45-4746-b2c9-829f97231ac8",
   "metadata": {},
   "source": [
    "### Below are a few examples of evaluating arithmetic expressions in Python:"
   ]
  },
  {
   "cell_type": "code",
   "execution_count": 7,
   "id": "cb7b1547-ace5-4765-82af-6733616a3e67",
   "metadata": {
    "tags": []
   },
   "outputs": [
    {
     "data": {
      "text/plain": [
       "17"
      ]
     },
     "execution_count": 7,
     "metadata": {},
     "output_type": "execute_result"
    }
   ],
   "source": [
    "# This is a simple arithmetic expression to multiply then add integers\n",
    "(3*4)+5"
   ]
  },
  {
   "cell_type": "code",
   "execution_count": 8,
   "id": "62b31c6a-0783-419f-8d20-fff2eb694410",
   "metadata": {
    "tags": []
   },
   "outputs": [
    {
     "data": {
      "text/plain": [
       "3.3333333333333335"
      ]
     },
     "execution_count": 8,
     "metadata": {},
     "output_type": "execute_result"
    }
   ],
   "source": [
    "# This will convert 200 minutes to hours by dividing by 60\n",
    "200/60"
   ]
  },
  {
   "cell_type": "markdown",
   "id": "7ec439cc-3d43-4d96-bb2b-ec3be3cf7941",
   "metadata": {
    "tags": []
   },
   "source": [
    "## Author\n",
    "Jakob Zischka"
 ],
 "metadata": {
  "kernelspec": {
   "display_name": "Python 3 (ipykernel)",
   "language": "python",
   "name": "python3"
  },
  "language_info": {
   "codemirror_mode": {
    "name": "ipython",
    "version": 3
   },
   "file_extension": ".py",
   "mimetype": "text/x-python",
   "name": "python",
   "nbconvert_exporter": "python",
   "pygments_lexer": "ipython3",
   "version": "3.11.5"
  }
 },
 "nbformat": 4,
 "nbformat_minor": 5
}
